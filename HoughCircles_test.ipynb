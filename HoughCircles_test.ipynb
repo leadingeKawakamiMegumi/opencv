{
 "cells": [
  {
   "cell_type": "code",
   "execution_count": null,
   "id": "4ca8ac29",
   "metadata": {},
   "outputs": [],
   "source": [
    "#http://labs.eecs.tottori-u.ac.jp/sd/Member/oyamada/OpenCV/html/py_tutorials/py_imgproc/py_houghcircles/py_houghcircles.html"
   ]
  },
  {
   "cell_type": "code",
   "execution_count": 1,
   "id": "3fba5269",
   "metadata": {},
   "outputs": [],
   "source": [
    "import cv2\n",
    "import numpy as np\n",
    "import pandas as pd\n",
    "import matplotlib.pyplot as plt\n",
    "import matplotlib.cm as cm\n",
    "%matplotlib inline\n",
    "\n",
    "from decimal import Decimal, ROUND_HALF_UP"
   ]
  },
  {
   "cell_type": "code",
   "execution_count": 2,
   "id": "c0919240",
   "metadata": {},
   "outputs": [],
   "source": [
    "from decimal import Decimal, ROUND_HALF_UP\n",
    "\n",
    "#https://www.mathpython.com/ja/python-number-round/\n",
    "def rounding_int(x):\n",
    "    sx = Decimal(str(x))\n",
    "    a = sx.quantize(Decimal('0'), rounding=ROUND_HALF_UP)\n",
    "    return(int(a))"
   ]
  },
  {
   "cell_type": "code",
   "execution_count": 3,
   "id": "c302cf88",
   "metadata": {},
   "outputs": [],
   "source": [
    "im = np.zeros((128,128),np.uint8)"
   ]
  },
  {
   "cell_type": "code",
   "execution_count": 40,
   "id": "b899008a",
   "metadata": {},
   "outputs": [
    {
     "data": {
      "text/plain": [
       "<matplotlib.image.AxesImage at 0x19420c8f1f0>"
      ]
     },
     "execution_count": 40,
     "metadata": {},
     "output_type": "execute_result"
    },
    {
     "data": {
      "image/png": "[encoded data removed]",
      "text/plain": [
       "<Figure size 432x288 with 1 Axes>"
      ]
     },
     "metadata": {
      "needs_background": "light"
     },
     "output_type": "display_data"
    }
   ],
   "source": [
    "im2 = im.copy()\n",
    "im2 = cv2.circle(im2, (64,64), 32, (255, 255, 255), thickness=5)\n",
    "im2 = cv2.resize(im2, dsize=None, fx=0.25, fy=0.25, interpolation = cv2.INTER_AREA)\n",
    "plt.imshow(im2)"
   ]
  },
  {
   "cell_type": "code",
   "execution_count": 41,
   "id": "36403655",
   "metadata": {},
   "outputs": [
    {
     "data": {
      "text/plain": [
       "array([[[15.5, 15.5,  7. ]]], dtype=float32)"
      ]
     },
     "execution_count": 41,
     "metadata": {},
     "output_type": "execute_result"
    }
   ],
   "source": [
    "circles = cv2.HoughCircles(im2,cv2.HOUGH_GRADIENT,dp=1,minDist=20,\n",
    "                            param1=50,param2=20,minRadius=0,maxRadius=10)\n",
    "circles"
   ]
  },
  {
   "cell_type": "code",
   "execution_count": 63,
   "id": "768cd4b3",
   "metadata": {},
   "outputs": [
    {
     "name": "stdout",
     "output_type": "stream",
     "text": [
      "16 <class 'int'>\n"
     ]
    }
   ],
   "source": [
    "x=15.5\n",
    "a = rounding_int(x)\n",
    "print(a,type(a))"
   ]
  },
  {
   "cell_type": "code",
   "execution_count": 64,
   "id": "3b359928",
   "metadata": {},
   "outputs": [
    {
     "name": "stdout",
     "output_type": "stream",
     "text": [
      "16 16 7\n"
     ]
    },
    {
     "data": {
      "text/plain": [
       "<matplotlib.image.AxesImage at 0x194268cd160>"
      ]
     },
     "execution_count": 64,
     "metadata": {},
     "output_type": "execute_result"
    },
    {
     "data": {
      "image/png": "[encoded data removed]",
      "text/plain": [
       "<Figure size 432x288 with 1 Axes>"
      ]
     },
     "metadata": {
      "needs_background": "light"
     },
     "output_type": "display_data"
    }
   ],
   "source": [
    "im_dbg = im2.copy()\n",
    "for c in circles:\n",
    "    cx = rounding_int(c[0][0])\n",
    "    cy = rounding_int(c[0][1])\n",
    "    cr = rounding_int(c[0][2])\n",
    "    print(cx,cy,cr)\n",
    "    cv2.circle(im_dbg, (cx,cy), int(cr), (120,120,120), thickness=1)\n",
    "\n",
    "plt.imshow(im_dbg)    "
   ]
  },
  {
   "cell_type": "code",
   "execution_count": 65,
   "id": "188572e3",
   "metadata": {},
   "outputs": [
    {
     "data": {
      "text/plain": [
       "<matplotlib.image.AxesImage at 0x1942668da90>"
      ]
     },
     "execution_count": 65,
     "metadata": {},
     "output_type": "execute_result"
    },
    {
     "data": {
      "image/png": "[encoded data removed]",
      "text/plain": [
       "<Figure size 432x288 with 1 Axes>"
      ]
     },
     "metadata": {
      "needs_background": "light"
     },
     "output_type": "display_data"
    }
   ],
   "source": [
    "im3 = im.copy()\n",
    "im3 = cv2.circle(im3, (64,64), 32, (255, 255, 255), thickness=-1)\n",
    "im3 = cv2.resize(im3, dsize=None, fx=0.25, fy=0.25, interpolation = cv2.INTER_AREA)\n",
    "plt.imshow(im3)"
   ]
  },
  {
   "cell_type": "code",
   "execution_count": 66,
   "id": "4770dbb5",
   "metadata": {},
   "outputs": [
    {
     "data": {
      "text/plain": [
       "array([[[15.5, 15.5,  8.2]]], dtype=float32)"
      ]
     },
     "execution_count": 66,
     "metadata": {},
     "output_type": "execute_result"
    }
   ],
   "source": [
    "circles = cv2.HoughCircles(im3,cv2.HOUGH_GRADIENT,dp=1,minDist=20,\n",
    "                            param1=20,param2=20,minRadius=0,maxRadius=0)\n",
    "circles"
   ]
  },
  {
   "cell_type": "code",
   "execution_count": 67,
   "id": "b6e253a7",
   "metadata": {},
   "outputs": [
    {
     "name": "stdout",
     "output_type": "stream",
     "text": [
      "16 16 8\n"
     ]
    },
    {
     "data": {
      "text/plain": [
       "<matplotlib.image.AxesImage at 0x194271d8100>"
      ]
     },
     "execution_count": 67,
     "metadata": {},
     "output_type": "execute_result"
    },
    {
     "data": {
      "image/png": "[encoded data removed]",
      "text/plain": [
       "<Figure size 432x288 with 1 Axes>"
      ]
     },
     "metadata": {
      "needs_background": "light"
     },
     "output_type": "display_data"
    }
   ],
   "source": [
    "im_dbg = im3.copy()\n",
    "for c in circles:\n",
    "    cx = rounding_int(c[0][0])\n",
    "    cy = rounding_int(c[0][1])\n",
    "    cr = rounding_int(c[0][2])\n",
    "    print(cx,cy,cr)\n",
    "    cv2.circle(im_dbg, (cx,cy), int(cr), (120,120,120), thickness=1)\n",
    "\n",
    "plt.imshow(im_dbg)    "
   ]
  },
  {
   "cell_type": "code",
   "execution_count": null,
   "id": "98816a1f",
   "metadata": {},
   "outputs": [],
   "source": []
  }
 ],
 "metadata": {
  "kernelspec": {
   "display_name": "Python 3",
   "language": "python",
   "name": "python3"
  },
  "language_info": {
   "codemirror_mode": {
    "name": "ipython",
    "version": 3
   },
   "file_extension": ".py",
   "mimetype": "text/x-python",
   "name": "python",
   "nbconvert_exporter": "python",
   "pygments_lexer": "ipython3",
   "version": "3.9.4"
  }
 },
 "nbformat": 4,
 "nbformat_minor": 5
}
